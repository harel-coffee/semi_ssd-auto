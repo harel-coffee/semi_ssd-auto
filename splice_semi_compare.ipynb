{
 "cells": [
  {
   "cell_type": "code",
   "execution_count": 1,
   "metadata": {},
   "outputs": [
    {
     "name": "stderr",
     "output_type": "stream",
     "text": [
      "/home/ec2-user/anaconda3/envs/tensorflow_p36/lib/python3.6/site-packages/sklearn/ensemble/weight_boosting.py:29: DeprecationWarning: numpy.core.umath_tests is an internal NumPy module and should not be imported. It will be removed in a future NumPy release.\n",
      "  from numpy.core.umath_tests import inner1d\n",
      "Using TensorFlow backend.\n",
      "/home/ec2-user/anaconda3/envs/tensorflow_p36/lib/python3.6/importlib/_bootstrap.py:219: RuntimeWarning: compiletime version 3.5 of module 'tensorflow.python.framework.fast_tensor_util' does not match runtime version 3.6\n",
      "  return f(*args, **kwds)\n"
     ]
    }
   ],
   "source": [
    "from experiments.helpers import *\n",
    "from experiments.learning_curve import *"
   ]
  },
  {
   "cell_type": "code",
   "execution_count": 2,
   "metadata": {},
   "outputs": [],
   "source": [
    "X = sp.load_npz(get_s3('semi_ssd/data/splice/splice_X.npz', bucket='fau-bigdata'))\n",
    "Y = np.load(get_s3('semi_ssd/data/splice/splice_Y.npy', bucket='fau-bigdata'))"
   ]
  },
  {
   "cell_type": "code",
   "execution_count": 3,
   "metadata": {},
   "outputs": [
    {
     "name": "stdout",
     "output_type": "stream",
     "text": [
      "(4627840, 100000)\n",
      "(4627840,) (array([0, 1]), array([4613291,   14549]))\n"
     ]
    }
   ],
   "source": [
    "check_data(X, Y)"
   ]
  },
  {
   "cell_type": "code",
   "execution_count": 4,
   "metadata": {},
   "outputs": [],
   "source": [
    "from sklearn.preprocessing import StandardScaler\n",
    "from sklearn.feature_selection import chi2, SelectKBest, VarianceThreshold\n",
    "from sklearn.linear_model import LogisticRegression\n",
    "from sklearn.model_selection import train_test_split\n",
    "\n",
    "pos_ratio = np.sum(Y) / Y.shape[0]\n",
    "random_state = 42"
   ]
  },
  {
   "cell_type": "code",
   "execution_count": 5,
   "metadata": {},
   "outputs": [],
   "source": [
    "pipeline = [\n",
    "    VarianceThreshold(0),\n",
    "    StandardScaler(with_mean=False),\n",
    "    SelectKBest(score_func=chi2, k=1000),\n",
    "    LogisticRegression(random_state=random_state),\n",
    "]"
   ]
  },
  {
   "cell_type": "code",
   "execution_count": 6,
   "metadata": {},
   "outputs": [],
   "source": [
    "def run_model(X, Y, test_pos_size, train_pos_size, pseudo_pos_size=None, run=0):\n",
    "    start = datetime.now()\n",
    "    \n",
    "    # get test data\n",
    "    test_total = int(test_pos_size / pos_ratio)\n",
    "    test_neg_size = test_total - test_pos_size\n",
    "    \n",
    "    x_train, x_test, y_train, y_test = train_test_split(X, Y, \n",
    "                                                        test_size=test_total, random_state=random_state + run)\n",
    "    \n",
    "    # get train data\n",
    "    train_total = int(train_pos_size / pos_ratio)\n",
    "    train_neg_size = train_total - train_pos_size\n",
    "    \n",
    "    if pseudo_pos_size: # if pseudo\n",
    "        pseudo_total = int(pseudo_pos_size / pos_ratio)\n",
    "        pseudo_neg_size = pseudo_total - pseudo_pos_size\n",
    "        x_unlab, x_lab, y_unlab, y_lab = train_test_split(x_train, y_train, \n",
    "                                                          test_size=pseudo_total, random_state=random_state + run)\n",
    "        \n",
    "        y_pseudo, _ = pseudo_label(pipeline, x_lab, y_lab, x_unlab, y_unlab)\n",
    "        x_train_samp, y_train_samp = sample_data(x_unlab, y_pseudo, \n",
    "                                                 train_pos_size, train_neg_size, random_state + run)\n",
    "    else:\n",
    "        x_train_samp, y_train_samp = sample_data(x_train, y_train, \n",
    "                                                 train_pos_size, train_neg_size, random_state + run)\n",
    "    \n",
    "    # evaluate model\n",
    "    model = make_pipeline(*pipeline)\n",
    "    model.fit(x_train_samp, y_train_samp)\n",
    "    \n",
    "    y_predict = model.predict_proba(x_test)[:, 1]\n",
    "    auc = roc_auc_score(y_test, y_predict)\n",
    "    \n",
    "    out = {\n",
    "        'run': run,\n",
    "        'test_pos_size': test_pos_size,\n",
    "        'test_neg_size': test_neg_size,\n",
    "        'train_pos_size': train_pos_size,\n",
    "        'test_neg_size': train_neg_size,\n",
    "        'auc': auc,\n",
    "        'time': datetime.now() - start\n",
    "    }\n",
    "    if pseudo_pos_size:\n",
    "        out['pseudo_pos_size'] = pseudo_pos_size\n",
    "        out['pseudo_neg_size'] = pseudo_neg_size\n",
    "    print(f\"RUN={run} Size={test_pos_size} AUC={round(auc, 4)} Time: {datetime.now() - start}\")\n",
    "    return out"
   ]
  },
  {
   "cell_type": "code",
   "execution_count": 7,
   "metadata": {},
   "outputs": [],
   "source": [
    "small_args = [(X, Y, 2500, 50, None, r) for r in range(25)]\n",
    "full_args = [(X, Y, 2500, 2500, None, r) for r in range(25)]\n",
    "pseudo_args = [(X, Y, 2500, 2500, 50, r) for r in range(25)]\n",
    "run_args = small_args + full_args + pseudo_args"
   ]
  },
  {
   "cell_type": "code",
   "execution_count": 8,
   "metadata": {},
   "outputs": [
    {
     "name": "stdout",
     "output_type": "stream",
     "text": [
      "RUN=0 Size=2500 AUC=0.4858 Time: 0:00:21.668933\n",
      "RUN=1 Size=2500 AUC=0.4835 Time: 0:00:21.551915\n",
      "RUN=2 Size=2500 AUC=0.5 Time: 0:00:21.633948\n",
      "RUN=3 Size=2500 AUC=0.484 Time: 0:00:21.543689\n",
      "RUN=4 Size=2500 AUC=0.5032 Time: 0:00:21.501067\n",
      "RUN=5 Size=2500 AUC=0.4863 Time: 0:00:21.468974\n",
      "RUN=6 Size=2500 AUC=0.4933 Time: 0:00:21.633713\n",
      "RUN=7 Size=2500 AUC=0.5096 Time: 0:00:21.606536\n",
      "RUN=8 Size=2500 AUC=0.4744 Time: 0:00:21.578911\n",
      "RUN=9 Size=2500 AUC=0.4927 Time: 0:00:21.496983\n",
      "RUN=10 Size=2500 AUC=0.5106 Time: 0:00:21.577023\n",
      "RUN=11 Size=2500 AUC=0.5015 Time: 0:00:21.565767\n",
      "RUN=12 Size=2500 AUC=0.5037 Time: 0:00:21.715034\n",
      "RUN=13 Size=2500 AUC=0.5016 Time: 0:00:21.530517\n",
      "RUN=14 Size=2500 AUC=0.4897 Time: 0:00:21.490785\n",
      "RUN=15 Size=2500 AUC=0.5019 Time: 0:00:21.651124\n",
      "RUN=16 Size=2500 AUC=0.5079 Time: 0:00:21.544587\n",
      "RUN=17 Size=2500 AUC=0.4883 Time: 0:00:21.470754\n",
      "RUN=18 Size=2500 AUC=0.4989 Time: 0:00:21.436814\n",
      "RUN=19 Size=2500 AUC=0.4778 Time: 0:00:21.523248\n",
      "RUN=20 Size=2500 AUC=0.497 Time: 0:00:21.641904\n",
      "RUN=21 Size=2500 AUC=0.493 Time: 0:00:21.565376\n",
      "RUN=22 Size=2500 AUC=0.5062 Time: 0:00:21.613016\n",
      "RUN=23 Size=2500 AUC=0.5038 Time: 0:00:21.509819\n",
      "RUN=24 Size=2500 AUC=0.5106 Time: 0:00:21.627680\n",
      "RUN=0 Size=2500 AUC=0.8485 Time: 0:00:55.972009\n",
      "RUN=1 Size=2500 AUC=0.8331 Time: 0:00:56.251613\n",
      "RUN=2 Size=2500 AUC=0.845 Time: 0:01:04.959396\n",
      "RUN=3 Size=2500 AUC=0.8525 Time: 0:01:02.398991\n",
      "RUN=4 Size=2500 AUC=0.8452 Time: 0:00:57.332963\n",
      "RUN=5 Size=2500 AUC=0.8464 Time: 0:00:58.231558\n",
      "RUN=6 Size=2500 AUC=0.8507 Time: 0:01:00.859865\n",
      "RUN=7 Size=2500 AUC=0.8421 Time: 0:00:55.328303\n",
      "RUN=8 Size=2500 AUC=0.8289 Time: 0:00:55.233085\n",
      "RUN=9 Size=2500 AUC=0.855 Time: 0:00:54.700789\n",
      "RUN=10 Size=2500 AUC=0.8437 Time: 0:00:51.615849\n",
      "RUN=11 Size=2500 AUC=0.8373 Time: 0:00:54.893216\n",
      "RUN=12 Size=2500 AUC=0.8457 Time: 0:00:57.577901\n",
      "RUN=13 Size=2500 AUC=0.8456 Time: 0:01:03.601619\n",
      "RUN=14 Size=2500 AUC=0.8352 Time: 0:00:56.440352\n",
      "RUN=15 Size=2500 AUC=0.8485 Time: 0:00:54.427608\n",
      "RUN=16 Size=2500 AUC=0.8454 Time: 0:00:57.879337\n",
      "RUN=17 Size=2500 AUC=0.838 Time: 0:00:56.527868\n",
      "RUN=18 Size=2500 AUC=0.8356 Time: 0:00:57.142283\n",
      "RUN=19 Size=2500 AUC=0.8343 Time: 0:01:01.279314\n",
      "RUN=20 Size=2500 AUC=0.8461 Time: 0:00:58.727213\n",
      "RUN=21 Size=2500 AUC=0.8456 Time: 0:00:53.035167\n",
      "RUN=22 Size=2500 AUC=0.8544 Time: 0:00:54.375609\n",
      "RUN=23 Size=2500 AUC=0.8376 Time: 0:00:58.831673\n",
      "RUN=24 Size=2500 AUC=0.8452 Time: 0:00:55.174389\n",
      "RUN=0 Size=2500 AUC=0.5393 Time: 0:01:37.687150\n",
      "RUN=1 Size=2500 AUC=0.5455 Time: 0:01:36.756642\n",
      "RUN=2 Size=2500 AUC=0.5302 Time: 0:01:34.100769\n",
      "RUN=3 Size=2500 AUC=0.5531 Time: 0:01:33.191911\n",
      "RUN=4 Size=2500 AUC=0.5434 Time: 0:01:34.874496\n",
      "RUN=5 Size=2500 AUC=0.5415 Time: 0:01:32.723743\n",
      "RUN=6 Size=2500 AUC=0.5585 Time: 0:01:35.031906\n",
      "RUN=7 Size=2500 AUC=0.5504 Time: 0:01:33.945465\n",
      "RUN=8 Size=2500 AUC=0.5361 Time: 0:01:33.685303\n",
      "RUN=9 Size=2500 AUC=0.5618 Time: 0:01:33.210398\n",
      "RUN=10 Size=2500 AUC=0.5601 Time: 0:01:33.748579\n",
      "RUN=11 Size=2500 AUC=0.5433 Time: 0:01:38.926800\n",
      "RUN=12 Size=2500 AUC=0.5255 Time: 0:01:43.985152\n",
      "RUN=13 Size=2500 AUC=0.5628 Time: 0:01:35.623771\n",
      "RUN=14 Size=2500 AUC=0.5331 Time: 0:01:43.374522\n",
      "RUN=15 Size=2500 AUC=0.5332 Time: 0:01:34.037300\n",
      "RUN=16 Size=2500 AUC=0.5603 Time: 0:01:35.300381\n",
      "RUN=17 Size=2500 AUC=0.5299 Time: 0:01:43.665984\n",
      "RUN=18 Size=2500 AUC=0.5483 Time: 0:01:37.837959\n",
      "RUN=19 Size=2500 AUC=0.5317 Time: 0:01:34.939971\n",
      "RUN=20 Size=2500 AUC=0.5289 Time: 0:01:43.245341\n",
      "RUN=21 Size=2500 AUC=0.5502 Time: 0:01:38.768925\n",
      "RUN=22 Size=2500 AUC=0.5456 Time: 0:01:38.827203\n",
      "RUN=23 Size=2500 AUC=0.5412 Time: 0:01:48.093483\n",
      "RUN=24 Size=2500 AUC=0.5586 Time: 0:01:35.770735\n"
     ]
    }
   ],
   "source": [
    "out = []\n",
    "for ar in run_args:\n",
    "    out.append(run_model(*ar))\n",
    "to_csv_s3(pd.DataFrame(out), 'semi_ssd/results/splice_semi_compare.csv', bucket='fau-bigdata')"
   ]
  }
 ],
 "metadata": {
  "kernelspec": {
   "display_name": "Environment (conda_tensorflow_p36)",
   "language": "python",
   "name": "conda_tensorflow_p36"
  },
  "language_info": {
   "codemirror_mode": {
    "name": "ipython",
    "version": 3
   },
   "file_extension": ".py",
   "mimetype": "text/x-python",
   "name": "python",
   "nbconvert_exporter": "python",
   "pygments_lexer": "ipython3",
   "version": "3.6.3"
  }
 },
 "nbformat": 4,
 "nbformat_minor": 2
}
